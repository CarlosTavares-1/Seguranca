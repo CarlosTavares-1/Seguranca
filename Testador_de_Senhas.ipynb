{
  "nbformat": 4,
  "nbformat_minor": 0,
  "metadata": {
    "colab": {
      "provenance": [],
      "authorship_tag": "ABX9TyOTIxEODCKH2Q2jpKnSgs/A",
      "include_colab_link": true
    },
    "kernelspec": {
      "name": "python3",
      "display_name": "Python 3"
    },
    "language_info": {
      "name": "python"
    }
  },
  "cells": [
    {
      "cell_type": "markdown",
      "metadata": {
        "id": "view-in-github",
        "colab_type": "text"
      },
      "source": [
        "<a href=\"https://colab.research.google.com/github/CarlosTavares-1/Seguranca/blob/main/Testador_de_Senhas.ipynb\" target=\"_parent\"><img src=\"https://colab.research.google.com/assets/colab-badge.svg\" alt=\"Open In Colab\"/></a>"
      ]
    },
    {
      "cell_type": "code",
      "source": [
        "# @title Testador de Senhas\n",
        "import string\n",
        "\n",
        "def verificar_forca_senha(senha):\n",
        "  \"\"\"Verifica a força de uma senha.\n",
        "\n",
        "  Args:\n",
        "    senha: A senha a ser analisada.\n",
        "\n",
        "  Returns:\n",
        "    Uma string indicando a força da senha (fraca, média ou forte).\n",
        "  \"\"\"\n",
        "\n",
        "  # Pontuação inicial\n",
        "  pontuacao = 0\n",
        "\n",
        "  # Verifica o comprimento\n",
        "  if len(senha) >= 8:\n",
        "    pontuacao += 1\n",
        "\n",
        "  # Verifica a presença de diferentes tipos de caracteres\n",
        "  tem_maiusc = False\n",
        "  tem_minusc = False\n",
        "  tem_numero = False\n",
        "  tem_especial = False\n",
        "  for char in senha:\n",
        "    if char in string.ascii_uppercase:\n",
        "      tem_maiusc = True\n",
        "    elif char in string.ascii_lowercase:\n",
        "      tem_minusc = True\n",
        "    elif char in string.digits:\n",
        "      tem_numero = True\n",
        "    elif char in string.punctuation:\n",
        "      tem_especial = True\n",
        "\n",
        "  pontuacao += tem_maiusc\n",
        "  pontuacao += tem_minusc\n",
        "  pontuacao += tem_numero\n",
        "  pontuacao += tem_especial\n",
        "\n",
        "  # Classifica a senha\n",
        "  if pontuacao <= 2:\n",
        "    return \"Senha muito fraca!\"\n",
        "  elif pontuacao <= 3:\n",
        "    return \"Senha fraca.\"\n",
        "  elif pontuacao <= 4:\n",
        "    return \"Senha média.\"\n",
        "  else:\n",
        "    return \"Senha forte!\"\n",
        "\n",
        "# Solicita a senha ao usuário\n",
        "senha = input(\"Digite sua senha: \")\n",
        "\n",
        "# Chama a função para verificar a força da senha\n",
        "resultado = verificar_forca_senha(senha)\n",
        "\n",
        "# Imprime o resultado\n",
        "print(resultado)"
      ],
      "metadata": {
        "colab": {
          "base_uri": "https://localhost:8080/"
        },
        "id": "Mpl6ELSma8TO",
        "outputId": "032dfb4a-dedd-476e-8100-627737833a8d"
      },
      "execution_count": null,
      "outputs": [
        {
          "output_type": "stream",
          "name": "stdout",
          "text": [
            "Digite sua senha: CARLOSss123@\n",
            "Senha forte!\n"
          ]
        }
      ]
    }
  ]
}